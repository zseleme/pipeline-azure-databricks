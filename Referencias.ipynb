{
 "cells": [
  {
   "cell_type": "markdown",
   "metadata": {
    "application/vnd.databricks.v1+cell": {
     "cellMetadata": {},
     "inputWidgets": {},
     "nuid": "325855bf-0a0f-429f-8c06-7d0c151d1ea5",
     "showTitle": false,
     "tableResultSettingsMap": {},
     "title": ""
    }
   },
   "source": [
    "### Referecia Databicks Azure\n",
    "\n",
    "o que é lakehouse\n",
    "https://learn.microsoft.com/pt-br/azure/databricks/lakehouse/\n",
    "\n",
    "O que é arquitetura medallion do Lakehouse?\n",
    "https://learn.microsoft.com/pt-br/azure/databricks/lakehouse/medallion\n",
    "\n",
    "Pipelines de processamento de ingestão, ETL e fluxo com o Azure Databricks e o Delta Lake\n",
    "https://learn.microsoft.com/pt-br/azure/architecture/solution-ideas/articles/ingest-etl-stream-with-adb\n",
    "\n",
    "Grupos de recursos do Azure\n",
    "https://learn.microsoft.com/pt-br/azure/azure-resource-manager/management/manage-resource-groups-portal\n",
    "\n",
    "Introdução ao Azure Data Lake Storage Gen2\n",
    "https://learn.microsoft.com/pt-br/azure/storage/blobs/data-lake-storage-introduction\n",
    "\n",
    "Autenticação e autorização no Serviço\n",
    "https://learn.microsoft.com/pt-br/azure/app-service/overview-authentication-authorization\n",
    "\n",
    "O que é a gestão de identidades e acessos (IAM)?\n",
    "https://learn.microsoft.com/pt-br/azure/active-directory/fundamentals/introduction-identity-access-management\n",
    "\n",
    "ACLs (Listas de controle de acesso) no Azure Data Lake Storage Gen2 \n",
    "https://learn.microsoft.com/pt-br/azure/storage/blobs/data-lake-storage-access-control\n",
    "\n",
    "Gerenciador de Armazenamento do Microsoft Azure \n",
    "https://azure.microsoft.com/pt-br/products/storage/storage-explorer\n",
    "\n",
    "Runtimes do Azure Synapse \n",
    "https://learn.microsoft.com/pt-br/azure/synapse-analytics/spark/apache-spark-version-support\n",
    "\n",
    "Runtime do Synapse para ciclo de vida e suporte do Apache Spark \n",
    "https://learn.microsoft.com/pt-br/azure/synapse-analytics/spark/runtime-for-apache-spark-lifecycle-an\n",
    "\n",
    "Valor Cluster \n",
    "https://azure.microsoft.com/en-gb/pricing/details/databricks/"
   ]
  },
  {
   "cell_type": "code",
   "execution_count": 0,
   "metadata": {
    "application/vnd.databricks.v1+cell": {
     "cellMetadata": {},
     "inputWidgets": {},
     "nuid": "07c1109a-284c-45b0-81d5-2dec48d583b4",
     "showTitle": false,
     "tableResultSettingsMap": {},
     "title": ""
    }
   },
   "outputs": [],
   "source": []
  }
 ],
 "metadata": {
  "application/vnd.databricks.v1+notebook": {
   "computePreferences": null,
   "dashboards": [],
   "environmentMetadata": {
    "base_environment": "",
    "environment_version": "3"
   },
   "inputWidgetPreferences": null,
   "language": "python",
   "notebookMetadata": {
    "pythonIndentUnit": 4
   },
   "notebookName": "Referencias",
   "widgets": {}
  },
  "language_info": {
   "name": "python"
  }
 },
 "nbformat": 4,
 "nbformat_minor": 0
}
